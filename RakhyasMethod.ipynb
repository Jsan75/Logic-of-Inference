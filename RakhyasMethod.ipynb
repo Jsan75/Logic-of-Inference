{
 "cells": [
  {
   "cell_type": "markdown",
   "metadata": {},
   "source": [
    "# Logic of Inference Project - N Queens Problem\n",
    "\n",
    "### Rakhya's Method Implementation "
   ]
  },
  {
   "cell_type": "markdown",
   "metadata": {},
   "source": [
    "Rakhya's Method is a case-based approach to the N-Queens Problem. The Solution reduces the processing time significantly as compared to several other algorithms like Backtracking. Numpy arrays are used for representation."
   ]
  },
  {
   "cell_type": "code",
   "execution_count": 1,
   "metadata": {},
   "outputs": [],
   "source": [
    "import numpy as np"
   ]
  },
  {
   "cell_type": "markdown",
   "metadata": {},
   "source": [
    "This case-based approach involves decisions based on the value of n."
   ]
  },
  {
   "cell_type": "code",
   "execution_count": 2,
   "metadata": {},
   "outputs": [
    {
     "name": "stdout",
     "output_type": "stream",
     "text": [
      "Mention N for which you would like to compute the problem: 18\n"
     ]
    }
   ],
   "source": [
    "n = int(input(\"Mention N for which you would like to compute the problem: \"))"
   ]
  },
  {
   "cell_type": "code",
   "execution_count": 3,
   "metadata": {},
   "outputs": [
    {
     "name": "stdout",
     "output_type": "stream",
     "text": [
      "The number is even\n",
      "The case is decided to be case A\n"
     ]
    }
   ],
   "source": [
    "if n%2 != 0:\n",
    "    print(\"The number is odd\")\n",
    "    if (n-3)%6 == 0:\n",
    "        print(\"The case is yet to be decided\")\n",
    "        if ((n+1)/2)%2 == 0:\n",
    "            case='F'\n",
    "            print(\"The case is decided to be case F\")\n",
    "        else:\n",
    "            case='E'\n",
    "            print(\"The case is decided to be case E\")\n",
    "    else:\n",
    "        case='B'\n",
    "        print(\"The case is decided to be case B\")\n",
    "else:\n",
    "    print(\"The number is even\")\n",
    "    if (n-2)%6 == 0:\n",
    "        print(\"The case is yet to be decided\")\n",
    "        if (n/2)%2 == 0:\n",
    "            case='C'\n",
    "            print(\"The case is decided to be case C\")\n",
    "        else:\n",
    "            case='D'\n",
    "            print(\"The case is decided to be case D\")\n",
    "    else:\n",
    "        case='A'\n",
    "        print(\"The case is decided to be case A\")"
   ]
  },
  {
   "cell_type": "markdown",
   "metadata": {},
   "source": [
    "## Case-based Analogy and approach to each case\n",
    "\n",
    "Detailed Explanation"
   ]
  },
  {
   "cell_type": "code",
   "execution_count": 5,
   "metadata": {},
   "outputs": [
    {
     "name": "stdout",
     "output_type": "stream",
     "text": [
      "A\n",
      "[[0 0 0 0 0 0 0 0 0 1 0 0 0 0 0 0 0 0]\n",
      " [1 0 0 0 0 0 0 0 0 0 0 0 0 0 0 0 0 0]\n",
      " [0 0 0 0 0 0 0 0 0 0 1 0 0 0 0 0 0 0]\n",
      " [0 1 0 0 0 0 0 0 0 0 0 0 0 0 0 0 0 0]\n",
      " [0 0 0 0 0 0 0 0 0 0 0 1 0 0 0 0 0 0]\n",
      " [0 0 1 0 0 0 0 0 0 0 0 0 0 0 0 0 0 0]\n",
      " [0 0 0 0 0 0 0 0 0 0 0 0 1 0 0 0 0 0]\n",
      " [0 0 0 1 0 0 0 0 0 0 0 0 0 0 0 0 0 0]\n",
      " [0 0 0 0 0 0 0 0 0 0 0 0 0 1 0 0 0 0]\n",
      " [0 0 0 0 1 0 0 0 0 0 0 0 0 0 0 0 0 0]\n",
      " [0 0 0 0 0 0 0 0 0 0 0 0 0 0 1 0 0 0]\n",
      " [0 0 0 0 0 1 0 0 0 0 0 0 0 0 0 0 0 0]\n",
      " [0 0 0 0 0 0 0 0 0 0 0 0 0 0 0 1 0 0]\n",
      " [0 0 0 0 0 0 1 0 0 0 0 0 0 0 0 0 0 0]\n",
      " [0 0 0 0 0 0 0 0 0 0 0 0 0 0 0 0 1 0]\n",
      " [0 0 0 0 0 0 0 1 0 0 0 0 0 0 0 0 0 0]\n",
      " [0 0 0 0 0 0 0 0 0 0 0 0 0 0 0 0 0 1]\n",
      " [0 0 0 0 0 0 0 0 1 0 0 0 0 0 0 0 0 0]]\n"
     ]
    }
   ],
   "source": [
    "arr = np.zeros((n,n) , dtype=int)\n",
    "\n",
    "if case=='A':\n",
    "    print(\"A\")\n",
    "    for i in range(n):\n",
    "        if i%2 != 0 :\n",
    "            arr[i][(i-1)//2]=1\n",
    "        else:\n",
    "            arr[i][(i+n)//2]=1\n",
    "elif case=='B':\n",
    "    print(\"B\")\n",
    "    for i in range(n):\n",
    "        if i%2 != 0 :\n",
    "            arr[i][(i+n)//2]=1\n",
    "        else:\n",
    "            arr[i][(i)//2]=1\n",
    "\n",
    "elif case=='C':\n",
    "    print(\"C\")\n",
    "    for i in range(n):\n",
    "        if i%2 != 0 :\n",
    "            arr[i][(i-1)//2]=1\n",
    "        else:\n",
    "            if i%4 == 0:\n",
    "                arr[i][(i+n+2)//2]=1\n",
    "            else:\n",
    "                arr[i][(i+n-2)//2]=1\n",
    "\n",
    "elif case=='D':\n",
    "    print(\"D\")\n",
    "    arr[n-2][0]=1\n",
    "    for i in range(n):\n",
    "        if i%2 != 0 :\n",
    "            arr[i][(i+1)//2]=1\n",
    "        else:\n",
    "            if i%4 == 0 and i<=n-6:\n",
    "                arr[i][(i+n+4)//2]=1\n",
    "            elif i%4 != 0 and i<=n-4:\n",
    "                arr[i][(i+n)//2]=1\n",
    "\n",
    "elif case=='E':\n",
    "    print(\"E\")\n",
    "    arr[n-2][0]=1\n",
    "    arr[n-4][1]=1\n",
    "    for i in range(n):\n",
    "        if i%2 == 0 :\n",
    "            arr[i][(i+4)//2]=1\n",
    "        else:\n",
    "            if (i-3)%4 == 0 and i<=n-6:\n",
    "                arr[i][(i+n+2)//2]=1\n",
    "            elif (i-1)%4 == 0 and i<=n-8:\n",
    "                arr[i][(i+n+6)//2]=1\n",
    "\n",
    "    \n",
    "elif case=='F':\n",
    "    print(\"F\")\n",
    "    arr[0][n-1]=1\n",
    "    arr[2][n-2]=1\n",
    "    for i in range(n):\n",
    "        if i%2 != 0 and i<=n-2:\n",
    "            arr[i][(i+n-4)//2]=1\n",
    "        else:\n",
    "            if i%4 == 0 and i<=n-3:\n",
    "                arr[i][(i-2)//2]=1\n",
    "            elif (i-2)%4 == 0 :\n",
    "                arr[i][(i-6)//2]=1\n",
    "\n",
    "    \n",
    "print(arr)"
   ]
  }
 ],
 "metadata": {
  "kernelspec": {
   "display_name": "Python 3",
   "language": "python",
   "name": "python3"
  },
  "language_info": {
   "codemirror_mode": {
    "name": "ipython",
    "version": 3
   },
   "file_extension": ".py",
   "mimetype": "text/x-python",
   "name": "python",
   "nbconvert_exporter": "python",
   "pygments_lexer": "ipython3",
   "version": "3.6.4"
  }
 },
 "nbformat": 4,
 "nbformat_minor": 2
}
